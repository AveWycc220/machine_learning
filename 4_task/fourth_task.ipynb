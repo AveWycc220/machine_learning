{
 "cells": [
  {
   "cell_type": "code",
   "execution_count": null,
   "metadata": {
    "collapsed": true,
    "pycharm": {
     "name": "#%%\n",
     "is_executing": true
    }
   },
   "outputs": [],
   "source": [
    "import pandas as pd\n",
    "import seaborn as sns\n",
    "import matplotlib.pyplot as plt"
   ]
  },
  {
   "cell_type": "code",
   "execution_count": 32,
   "outputs": [
    {
     "data": {
      "text/plain": "01.12     6676258\n02.12     4598031\n03.12     4623527\n04.12     5952186\n05.12     4443472\n06.12     4536513\n07.12     6526428\n08.12     3449865\n09.12     4635423\n10.12     5906555\n11.12     3559248\n12.12     5020346\n01.13     5480431\n02.13     3880539\n03.13     4452662\n04.13     5931792\n05.13     3042641\n06.13     4609463\n07.13     4059999\n08.13     2863673\n09.13     3351505\n10.13     6019988\n11.13     6493805\n12.13     4757253\n01.14     3757794\n02.14     4392747\n03.14     6260095\n04.14     5021470\n05.14     2840602\n06.14     3327692\n07.14     4143982\n08.14     1591452\n09.14     4930043\n10.14     5270430\n11.14     3325490\n12.14     5177012\n01.15    16640622\n02.15     4105294\n03.15     4938624\n04.15     4115875\n05.15     2184302\n06.15     2763198\n07.15     2825426\n08.15     4681733\n09.15     2883016\n10.15     3408559\n11.15     4041434\n12.15     3306737\n01.16     4943424\n02.16     3944564\n03.16     2993227\n04.16     3474924\n05.16     2658774\n06.16     2558790\n07.16     2591569\n08.16     3287049\n09.16     3000620\n10.16     4538780\n11.16     2861487\n12.16     2117483\n01.17     3597455\n02.17     2575934\n03.17     3645365\n04.17     5335419\n05.17     4494926\n06.17     2930943\n07.17     4557060\n08.17     2954763\n09.17     2700454\n10.17     5830380\n11.17     3027452\n12.17     2636092\n01.18     5419348\n02.18     4853576\n03.18     5575719\n04.18     9199061\n05.18     4523983\n06.18     4287863\n07.18     6523272\n08.18     3273449\n09.18     4236418\n10.18    14041087\n11.18     6148538\n12.18     7291374\n01.19     5716677\n02.19     2835133\n03.19     2667365\n04.19     3969088\n05.19     2548925\n06.19     2614586\n07.19     5547425\n08.19     4564103\n09.19     4476696\n10.19     4785153\n11.19     3058810\n12.19     4062009\n01.20     7753945\n02.20     8262449\n03.20    16890450\n04.20     8531728\n05.20     6642630\n06.20     5815124\n07.20     4618014\n08.20     4143765\n09.20     2989185\n10.20     4728147\ndtype: int64"
     },
     "metadata": {},
     "output_type": "display_data"
    },
    {
     "name": "stdout",
     "text": [
      "Max = 16890450 in 03.20\n"
     ],
     "output_type": "stream"
    }
   ],
   "source": [
    "csv = pd.read_csv('IBM.csv', sep=';')\n",
    "value_list = pd.Series(dtype=int)\n",
    "sum = csv['<VOL>'][0]\n",
    "for i in range(1, len(csv['<DATE>'])):\n",
    "    if csv['<DATE>'][i][3:] == csv['<DATE>'][i-1][3:]:\n",
    "        sum += csv['<VOL>'][i]\n",
    "    else:\n",
    "        value_list = value_list.append(pd.Series([sum], [csv['<DATE>'][i-1][3:]]))\n",
    "        sum = csv['<VOL>'][i]\n",
    "    if i == len(csv['<DATE>'])-1:\n",
    "        value_list = value_list.append(pd.Series([sum], [csv['<DATE>'][i-1][3:]]))\n",
    "with pd.option_context('display.max_rows', None, 'display.max_columns', None):\n",
    "    display(value_list)\n",
    "print(f'Max = {max(value_list)} in {value_list.index[value_list == max(value_list)][0]}')"
   ],
   "metadata": {
    "collapsed": false,
    "pycharm": {
     "name": "#%%\n",
     "is_executing": false
    }
   }
  },
  {
   "cell_type": "code",
   "execution_count": 33,
   "outputs": [
    {
     "name": "stdout",
     "text": [
      "Warning: Cannot change to a different GUI toolkit: notebook. Using tk instead.\n"
     ],
     "output_type": "stream"
    },
    {
     "data": {
      "text/plain": "<matplotlib.axes._subplots.AxesSubplot at 0x2a280820>"
     },
     "metadata": {},
     "output_type": "execute_result",
     "execution_count": 33
    }
   ],
   "source": [
    "%matplotlib notebook\n",
    "sns.set()\n",
    "fig, axes = plt.subplots(nrows=2, ncols=1, figsize = (18, 16), dpi= 160)\n",
    "plt.xlabel('Date')\n",
    "plt.ylabel('Volume')\n",
    "value_list[0:int(len(value_list)/2)].plot(kind='bar', ax=axes[0])\n",
    "value_list[int(len(value_list)/2):len(value_list)].plot(kind='bar', ax=axes[1])"
   ],
   "metadata": {
    "collapsed": false,
    "pycharm": {
     "name": "#%%\n",
     "is_executing": false
    }
   }
  }
 ],
 "metadata": {
  "kernelspec": {
   "display_name": "Python 3",
   "language": "python",
   "name": "python3"
  },
  "language_info": {
   "codemirror_mode": {
    "name": "ipython",
    "version": 2
   },
   "file_extension": ".py",
   "mimetype": "text/x-python",
   "name": "python",
   "nbconvert_exporter": "python",
   "pygments_lexer": "ipython2",
   "version": "2.7.6"
  },
  "pycharm": {
   "stem_cell": {
    "cell_type": "raw",
    "source": [
     "Импортируем библиотеки."
    ],
    "metadata": {
     "collapsed": false
    }
   }
  }
 },
 "nbformat": 4,
 "nbformat_minor": 0
}